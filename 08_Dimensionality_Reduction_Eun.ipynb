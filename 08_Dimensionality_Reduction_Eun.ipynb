{
 "cells": [
  {
   "cell_type": "markdown",
   "metadata": {},
   "source": [
    "# Machine Learning Seminar\n",
    "### Chapter08. Dimensionality Reduction\n",
    "<br>\n",
    "19.09.19  \n",
    "\n",
    "\n",
    "JaeEun Yoo\n"
   ]
  },
  {
   "cell_type": "markdown",
   "metadata": {},
   "source": [
    "* Many Machine Learning problems involve thousands or even millions of features for each training instance. \n",
    "    * Not only does this make training extremely slow, it can also make it much harder to find a good solution, as we will see. \n",
    "    * This problem is often referred to as the **curse of dimensionality.**\n",
    "* Fortunately, in real-world problems, it is often possible **to reduce the number of features considerably**, turning an intractable problem into a tractable one. \n",
    "    * For example, consider the MNIST images (introduced in Chapter 3): \n",
    "    * the pixels on the image borders are almost always white, so you could completely drop these pixels from the training set without losing much information. "
   ]
  },
  {
   "cell_type": "markdown",
   "metadata": {},
   "source": [
    "![Figure 6-2](./img/08_01.PNG)"
   ]
  },
  {
   "cell_type": "markdown",
   "metadata": {},
   "source": [
    "* Figure 7-6 confirms that these pixels are utterly unimportant for the classification task. \n",
    "* Moreover, two neighboring pixels are often highly correlated: \n",
    "    * if you merge them into a single pixel (e.g., by taking the mean of the two pixel intensities), you will not lose much information.\n",
    "* Apart from speeding up training, dimensionality reduction is also extremely useful for **data visualization (or DataViz)**. \n",
    "* Reducing the number of dimensions down to two (or three) makes it possible to **plot a high-dimensional training set on a graph** and often gain some important insights by visually detecting patterns, such as **clusters.**"
   ]
  },
  {
   "cell_type": "markdown",
   "metadata": {},
   "source": [
    "* In this chapter we will discuss the curse of dimensionality and get a sense of what goes on in highdimensional space. \n",
    "* Then, we will present the two main approaches to dimensionality reduction (projection and Manifold Learning), and we will go through three of the most popular dimensionality reduction techniques: <u>PCA, Kernel PCA, and LLE.</u>"
   ]
  },
  {
   "cell_type": "markdown",
   "metadata": {},
   "source": [
    "> **WARNING**"
   ]
  },
  {
   "cell_type": "markdown",
   "metadata": {},
   "source": [
    "* Reducing dimensionality does lose some information (just like compressing an image to JPEG can degrade its quality), so even though it will **speed up** training, it may also make **your system perform slightly worse.** \n",
    "* It also makes your <u>pipelines a bit more complex</u> and thus <u>harder to maintain.</u> \n",
    "* So you should first **try to train your system with the original data before considering using dimensionality reduction** if training is too slow. \n",
    "    * In some cases, however, reducing the dimensionality of the training data may **filter out some noise and unnecessary details** and thus result in higher performance (but in general it won’t; it will just speed up training)."
   ]
  },
  {
   "cell_type": "markdown",
   "metadata": {},
   "source": [
    "<hr>"
   ]
  },
  {
   "cell_type": "markdown",
   "metadata": {},
   "source": [
    "## The Curse of Dimensionality"
   ]
  },
  {
   "cell_type": "markdown",
   "metadata": {},
   "source": [
    "* We are so used to living in three dimensions that our intuition fails us when we try to imagine a highdimensional space. \n",
    "    * Even a basic 4D hypercube is incredibly hard to picture in our mind (see Figure 8-1), let alone a 200-dimensional ellipsoid bent in a 1,000-dimensional space."
   ]
  },
  {
   "cell_type": "markdown",
   "metadata": {},
   "source": [
    "![Figure 6-2](./img/08_02.PNG)"
   ]
  },
  {
   "cell_type": "markdown",
   "metadata": {},
   "source": [
    "* It turns out that many things behave very differently in high-dimensional space. \n",
    "    * For example, if you pick a random point in a **unit square (a 1 × 1 square)**, it will have only about a <u>0.4% chance of being located less than 0.001 from a border</u> (in other words, it is very unlikely that a random point will be “extreme” along any dimension). \n",
    "    * But in a **10,000-dimensional unit hypercube** (a 1 × 1 × ⋯ × 1 cube, \n",
    "    with ten thousand 1s), this probability is greater than <u>99.999999%.</u> \n",
    "* Most points in a high-dimensional hypercube are very close to the border."
   ]
  },
  {
   "cell_type": "markdown",
   "metadata": {},
   "source": [
    "* Here is a more troublesome difference: \n",
    "    * if you pick two points randomly in a unit square, the distance between these two points will be, on average, roughly **0.52**. \n",
    "    * If you pick two random points in a unit 3D cube, the average distance will be roughly **0.66**. \n",
    "    * But what about two points picked randomly in a 1,000,000-dimensional hypercube? \n",
    "* Well, the average distance, believe it or not, will be about **408.25**(roughly ![Figure 6-2](./img/08_03.PNG)! \n",
    "* This is quite counterintuitive: how can two points be so far apart when they both lie within the same unit hypercube? \n",
    "    * **This fact implies that high-dimensional datasets are at risk of being very sparse:**\n",
    "    * most training instances are likely to be far away from each other. \n",
    "    * Of course, this also means that a new instance will likely be far away from any training instance, **making predictions much less reliable than in lower dimensions,** since they will be based on much larger extrapolations. \n",
    "    * extrapolations : 보외법, 원래의 관찰 범위를 넘어서서 다른 변수와의 관게에 기초하여 변수의 값을 추정하는 과정.\n",
    "* In short, **the more dimensions the training set has, the greater the risk of overfitting it.**\n"
   ]
  },
  {
   "cell_type": "markdown",
   "metadata": {},
   "source": [
    "* In theory, one solution to the curse of dimensionality could be to **increase the size of the training set to reach a sufficient density of training instances.** \n",
    "* Unfortunately, in practice, the number of training instances required to reach a given density grows exponentially with the number of dimensions. \n",
    "* With just 100 features (much less than in the MNIST problem), you would need more training instances than atoms in the observable universe in order for training instances to be within 0.1 of each other on average, assuming they were spread out uniformly across all dimensions."
   ]
  },
  {
   "cell_type": "markdown",
   "metadata": {},
   "source": [
    "<hr>"
   ]
  },
  {
   "cell_type": "markdown",
   "metadata": {},
   "source": [
    "## Main Approaches for Dimensionality Reduction  \n",
    "Before we dive into specific dimensionality reduction algorithms, let’s take a look at the <u>two main approaches to reducing dimensionality</u>: **projection and Manifold Learning.**"
   ]
  },
  {
   "cell_type": "markdown",
   "metadata": {},
   "source": [
    "### Projection"
   ]
  },
  {
   "cell_type": "markdown",
   "metadata": {},
   "source": [
    "* In most real-world problems, training instances are not spread out uniformly across all dimensions.\n",
    "* Many features are almost constant, while others are highly correlated (as discussed earlier for MNIST). \n",
    "* As a result, **all training instances actually lie within (or close to) a much lower-dimensional subspace of the high-dimensional space.**  \n",
    "* This sounds very abstract, so let’s look at an example. In Figure 8-2 you can see a 3D dataset represented by the circles."
   ]
  },
  {
   "cell_type": "markdown",
   "metadata": {},
   "source": [
    "![Figure 6-2](./img/08_04.PNG)"
   ]
  },
  {
   "cell_type": "markdown",
   "metadata": {},
   "source": [
    "* Notice that all training instances lie close to a plane: this is a lower-dimensional (2D) subspace of the high-dimensional (3D) space. \n",
    "* Now if we project every training instance perpendicularly onto this subspace (as represented by the short lines connecting the instances to the plane), we get the new 2D dataset shown in Figure 8-3. Ta-da! "
   ]
  },
  {
   "cell_type": "markdown",
   "metadata": {},
   "source": [
    "![Figure 6-2](./img/08_05.PNG)"
   ]
  },
  {
   "cell_type": "markdown",
   "metadata": {},
   "source": [
    "* We have just reduced the dataset’s dimensionality from 3D to 2D.\n",
    "* Note that **the axes correspond to new features z1 and z2 (the coordinates of the projections on the plane).**"
   ]
  },
  {
   "cell_type": "markdown",
   "metadata": {},
   "source": [
    "* However, projection is not always the best approach to dimensionality reduction. \n",
    "* In many cases the subspace may twist and turn, such as in the famous Swiss roll toy dataset represented in Figure 8-4."
   ]
  },
  {
   "cell_type": "markdown",
   "metadata": {},
   "source": [
    "![Figure 6-2](./img/08_06.PNG)"
   ]
  },
  {
   "cell_type": "markdown",
   "metadata": {},
   "source": [
    "* Simply projecting onto a plane (e.g., by dropping x3) would squash different layers of the Swiss roll together, as shown on the left of Figure 8-5. \n",
    "* However, what you really want is to unroll the Swiss roll to obtain the 2D dataset on the right of Figure 8-5."
   ]
  },
  {
   "cell_type": "markdown",
   "metadata": {},
   "source": [
    "![Figure 6-2](./img/08_07.PNG)"
   ]
  },
  {
   "cell_type": "markdown",
   "metadata": {},
   "source": [
    "<br>\n",
    "\n",
    "### Manifold Learning"
   ]
  },
  {
   "cell_type": "markdown",
   "metadata": {},
   "source": [
    "* The Swiss roll is an example of a 2D manifold. \n",
    "    * Put simply, a 2D manifold is a 2D shape that can be bent and twisted in a higher-dimensional space. \n",
    "    * More generally, a d-dimensional manifold is a part of an n-dimensional space (where d < n) that locally resembles a d-dimensional hyperplane. \n",
    "* In the case of the Swiss roll, d = 2 and n = 3: it locally resembles a 2D plane, but it is rolled in the third dimension.\n",
    "* Many dimensionality reduction algorithms work by modeling the manifold on which the training instances lie; this is called **Manifold Learning.** \n",
    "* It relies on the manifold assumption, also called the manifold hypothesis, which holds that most real-world high-dimensional datasets lie close to a much lower-dimensional manifold. \n",
    "* This assumption is very often empirically observed."
   ]
  },
  {
   "cell_type": "markdown",
   "metadata": {},
   "source": [
    "* Once again, think about the MNIST dataset: all handwritten digit images have some similarities. \n",
    "    * They are made of connected lines, the borders are white, they are more or less centered, and so on. \n",
    "    * If you randomly generated images, only a ridiculously tiny fraction of them would look like handwritten digits. \n",
    "    * In other words, <u>the degrees of freedom available to you if you try to create a digit image are dramatically lower than the degrees of freedom you would have if you were allowed to generate any image you wanted.</u> \n",
    "    * These constraints tend to squeeze the dataset into a lower-dimensional manifold.\n",
    "* The manifold assumption is often accompanied by another implicit assumption: that the task at hand (e.g., classification or regression) will be simpler if expressed in the lower-dimensional space of the manifold. "
   ]
  },
  {
   "cell_type": "markdown",
   "metadata": {},
   "source": [
    "![Figure 6-2](./img/08_08.PNG)"
   ]
  },
  {
   "cell_type": "markdown",
   "metadata": {},
   "source": [
    "* For example, in the top row of Figure 8-6 the Swiss roll is split into two classes: in the 3D space (on the left), the decision boundary would be fairly complex, but in the 2D unrolled manifold space (on the right), the decision boundary is a simple straight line."
   ]
  },
  {
   "cell_type": "markdown",
   "metadata": {},
   "source": [
    "* However, this assumption does not always hold. \n",
    "    * For example, in the bottom row of Figure 8-6, the decision boundary is located at x<sub>1</sub> = 5. \n",
    "    * This decision boundary looks very simple in the original 3D space (a vertical plane), but **it looks more complex in the unrolled manifold** (a collection of four independent line segments).\n",
    "* In short, if you reduce the dimensionality of your training set before training a model, it will definitely speed up training, but it may not always lead to a better or simpler solution; <u>it all depends on the dataset.</u>\n",
    "* Hopefully you now have a good sense of what the curse of dimensionality is and how dimensionality reduction algorithms can fight it, especially when the manifold assumption holds. \n",
    "* The rest of this chapter will go through some of the most popular algorithms."
   ]
  },
  {
   "cell_type": "markdown",
   "metadata": {},
   "source": [
    "<hr>"
   ]
  },
  {
   "cell_type": "markdown",
   "metadata": {},
   "source": [
    "## PCA (Principal Component Analysis)"
   ]
  },
  {
   "cell_type": "markdown",
   "metadata": {},
   "source": [
    "* Principal Component Analysis (PCA) is by far the most popular dimensionality reduction algorithm.\n",
    "* First it identifies the hyperplane that lies closest to the data, and then it projects the data onto it."
   ]
  },
  {
   "cell_type": "markdown",
   "metadata": {},
   "source": [
    "### Preserving the Variance"
   ]
  },
  {
   "cell_type": "markdown",
   "metadata": {},
   "source": [
    "* Before you can project the training set onto a lower-dimensional hyperplane, you first need to choose the right hyperplane. \n",
    "    * For example, a simple 2D dataset is represented on the left of Figure 8-7, along with three different axes (i.e., one-dimensional hyperplanes). \n",
    "    * On the right is the result of the projection of the dataset onto each of these axes. \n"
   ]
  },
  {
   "cell_type": "markdown",
   "metadata": {},
   "source": [
    "![Figure 6-2](./img/08_09.PNG)"
   ]
  },
  {
   "cell_type": "markdown",
   "metadata": {},
   "source": [
    "* As you can see, the projection onto the solid line preserves the maximum variance, while the projection onto the dotted line preserves very little variance, and the projection onto the dashed line preserves an intermediate amount of variance."
   ]
  },
  {
   "cell_type": "markdown",
   "metadata": {},
   "source": [
    "* It seems reasonable to select the axis that **preserves the maximum amount of variance**, as it will <u>most likely lose less information than the other projections</u>. \n",
    "* Another way to justify this choice is that it is the axis that <u>minimizes the mean squared distance between the original dataset and its projection onto that axis.</u>\n",
    "* This is the rather simple idea behind PCA."
   ]
  },
  {
   "cell_type": "markdown",
   "metadata": {},
   "source": [
    "### Principal Components"
   ]
  },
  {
   "cell_type": "markdown",
   "metadata": {},
   "source": [
    "![Figure 6-2](./img/08_09.PNG)"
   ]
  },
  {
   "cell_type": "markdown",
   "metadata": {},
   "source": [
    "* PCA identifies the axis that accounts for the largest amount of variance in the training set. In Figure 8-7, it is the **solid line.** \n",
    "* It also finds a second axis, orthogonal to the first one, that accounts for the largest amount of remaining variance. \n",
    "* In this 2D example there is no choice: it is the dotted line. \n",
    "* If it were a higher-dimensional dataset, PCA would also find a third axis, orthogonal to both previous axes, and a fourth, a fifth, and so on — as many axes as the number of dimensions in the dataset.\n",
    "* The unit vector that defines the i<sub>th</sub> axis is called the **i<sub>th</sub> principal component (PC).** \n",
    "* In Figure 8-7, the 1st PC is c<sub>1</sub> and the 2nd PC is c<sub>2</sub>. "
   ]
  },
  {
   "cell_type": "markdown",
   "metadata": {},
   "source": [
    "![Figure 6-2](./img/08_04.PNG)"
   ]
  },
  {
   "cell_type": "markdown",
   "metadata": {},
   "source": [
    "* In Figure 8-2 the first two PCs are represented by the orthogonal arrows in the plane, and the third PC would be orthogonal to the plane (pointing up or down)."
   ]
  },
  {
   "cell_type": "markdown",
   "metadata": {},
   "source": [
    "> **NOTE**"
   ]
  },
  {
   "cell_type": "markdown",
   "metadata": {},
   "source": [
    "**The direction of the principal components is not stable**: if you perturb the training set slightly and run PCA again, <u>some of the new PCs may point in the opposite direction of the original PCs.</u> However, they will generally still lie on the same axes.  \n",
    "In some cases, a pair of PCs may even rotate or swap, but the plane they define will generally remain the same."
   ]
  },
  {
   "cell_type": "markdown",
   "metadata": {},
   "source": [
    "* So how can you find the principal components of a training set? Luckily, there is a standard matrix factorization technique called **Singular Value Decomposition (SVD)** that can decompose the training set matrix **X** into the dot product of three matrices **U · Σ · V<sup>T</sup>**, where **V<sup>T</sup>** contains all the principal components that we are looking for, as shown in Equation 8-1."
   ]
  },
  {
   "cell_type": "markdown",
   "metadata": {},
   "source": [
    "![Figure 6-2](./img/08_10.PNG)"
   ]
  },
  {
   "cell_type": "markdown",
   "metadata": {},
   "source": [
    "![Figure 6-2](./img/08_15.PNG)"
   ]
  },
  {
   "cell_type": "markdown",
   "metadata": {},
   "source": [
    "![Figure 6-2](./img/08_16.PNG)"
   ]
  },
  {
   "cell_type": "markdown",
   "metadata": {},
   "source": [
    "reference : http://darkpgmr.tistory.com/106"
   ]
  },
  {
   "cell_type": "markdown",
   "metadata": {},
   "source": [
    "* The following Python code uses NumPy’s ***svd()*** function to obtain all the principal components of the training set, then extracts the first two PCs:"
   ]
  },
  {
   "cell_type": "code",
   "execution_count": 71,
   "metadata": {},
   "outputs": [],
   "source": [
    "import numpy as np\n",
    "\n",
    "A = [[i**2, i, 1] for i in range(1930, 2020, 10)]\n",
    "matA = np.array(A).astype(np.float64)"
   ]
  },
  {
   "cell_type": "code",
   "execution_count": 72,
   "metadata": {},
   "outputs": [
    {
     "data": {
      "text/plain": [
       "array([[3.7249e+06, 1.9300e+03, 1.0000e+00],\n",
       "       [3.7636e+06, 1.9400e+03, 1.0000e+00],\n",
       "       [3.8025e+06, 1.9500e+03, 1.0000e+00],\n",
       "       [3.8416e+06, 1.9600e+03, 1.0000e+00],\n",
       "       [3.8809e+06, 1.9700e+03, 1.0000e+00],\n",
       "       [3.9204e+06, 1.9800e+03, 1.0000e+00],\n",
       "       [3.9601e+06, 1.9900e+03, 1.0000e+00],\n",
       "       [4.0000e+06, 2.0000e+03, 1.0000e+00],\n",
       "       [4.0401e+06, 2.0100e+03, 1.0000e+00]])"
      ]
     },
     "execution_count": 72,
     "metadata": {},
     "output_type": "execute_result"
    }
   ],
   "source": [
    "matA"
   ]
  },
  {
   "cell_type": "code",
   "execution_count": 73,
   "metadata": {},
   "outputs": [],
   "source": [
    "X_centered = matA - matA.mean(axis=0)"
   ]
  },
  {
   "cell_type": "code",
   "execution_count": 74,
   "metadata": {},
   "outputs": [
    {
     "data": {
      "text/plain": [
       "array([[-1.56666667e+05, -4.00000000e+01,  0.00000000e+00],\n",
       "       [-1.17966667e+05, -3.00000000e+01,  0.00000000e+00],\n",
       "       [-7.90666667e+04, -2.00000000e+01,  0.00000000e+00],\n",
       "       [-3.99666667e+04, -1.00000000e+01,  0.00000000e+00],\n",
       "       [-6.66666667e+02,  0.00000000e+00,  0.00000000e+00],\n",
       "       [ 3.88333333e+04,  1.00000000e+01,  0.00000000e+00],\n",
       "       [ 7.85333333e+04,  2.00000000e+01,  0.00000000e+00],\n",
       "       [ 1.18433333e+05,  3.00000000e+01,  0.00000000e+00],\n",
       "       [ 1.58533333e+05,  4.00000000e+01,  0.00000000e+00]])"
      ]
     },
     "execution_count": 74,
     "metadata": {},
     "output_type": "execute_result"
    }
   ],
   "source": [
    "X_centered"
   ]
  },
  {
   "cell_type": "code",
   "execution_count": 75,
   "metadata": {},
   "outputs": [],
   "source": [
    "U,s,V = np.linalg.svd(X_centered)"
   ]
  },
  {
   "cell_type": "code",
   "execution_count": 76,
   "metadata": {},
   "outputs": [
    {
     "data": {
      "text/plain": [
       "array([[-0.5133311 ,  0.53477671, -0.03641862,  0.20799157,  0.34800135,\n",
       "         0.38361073,  0.31481971,  0.14162827, -0.13596357],\n",
       "       [-0.3865274 ,  0.13517892, -0.2513109 , -0.31529261, -0.29174947,\n",
       "        -0.18068149,  0.01791133,  0.30402898,  0.67767148],\n",
       "       [-0.25906838, -0.15046018,  0.93527962, -0.05342831, -0.03241249,\n",
       "        -0.00167292,  0.03879039,  0.08897745,  0.14888826],\n",
       "       [-0.13095404, -0.32214059, -0.09218599,  0.88245861, -0.10992061,\n",
       "        -0.06932365,  0.0042495 ,  0.11079883,  0.25032435],\n",
       "       [-0.00218439, -0.37986231, -0.09203969, -0.13973421,  0.85582405,\n",
       "        -0.1053649 , -0.02330106,  0.10201555,  0.27058495],\n",
       "       [ 0.12724058, -0.32362533, -0.06428148, -0.12000677, -0.1351785 ,\n",
       "         0.89020332, -0.04386131,  0.0626276 ,  0.20967007],\n",
       "       [ 0.25732087, -0.15342966, -0.00891137, -0.05835906, -0.08292827,\n",
       "        -0.08261899,  0.94256876, -0.00736501,  0.0675797 ],\n",
       "       [ 0.38805647,  0.1307247 ,  0.07407065,  0.04520891,  0.01257475,\n",
       "        -0.02383184, -0.06401085,  0.89203771, -0.15568615],\n",
       "       [ 0.51944738,  0.52883775,  0.18466458,  0.19069715,  0.15133055,\n",
       "         0.06656479, -0.06360014, -0.23916423,  0.53987251]])"
      ]
     },
     "execution_count": 76,
     "metadata": {},
     "output_type": "execute_result"
    }
   ],
   "source": [
    "U"
   ]
  },
  {
   "cell_type": "code",
   "execution_count": 77,
   "metadata": {},
   "outputs": [
    {
     "data": {
      "text/plain": [
       "array([3.05196143e+05, 4.45422285e-01, 0.00000000e+00])"
      ]
     },
     "execution_count": 77,
     "metadata": {},
     "output_type": "execute_result"
    }
   ],
   "source": [
    "# eigenvalue of matA\n",
    "s"
   ]
  },
  {
   "cell_type": "code",
   "execution_count": 79,
   "metadata": {},
   "outputs": [
    {
     "data": {
      "text/plain": [
       "array([[ 9.99999968e-01,  2.53798706e-04,  0.00000000e+00],\n",
       "       [ 2.53798706e-04, -9.99999968e-01, -0.00000000e+00],\n",
       "       [ 0.00000000e+00,  0.00000000e+00,  1.00000000e+00]])"
      ]
     },
     "execution_count": 79,
     "metadata": {},
     "output_type": "execute_result"
    }
   ],
   "source": [
    "V"
   ]
  },
  {
   "cell_type": "code",
   "execution_count": 80,
   "metadata": {},
   "outputs": [],
   "source": [
    "c1 = V.T[:,0]\n",
    "c2 = V.T[:,1]"
   ]
  },
  {
   "cell_type": "code",
   "execution_count": 81,
   "metadata": {},
   "outputs": [
    {
     "data": {
      "text/plain": [
       "array([9.99999968e-01, 2.53798706e-04, 0.00000000e+00])"
      ]
     },
     "execution_count": 81,
     "metadata": {},
     "output_type": "execute_result"
    }
   ],
   "source": [
    "c1"
   ]
  },
  {
   "cell_type": "code",
   "execution_count": 82,
   "metadata": {},
   "outputs": [
    {
     "data": {
      "text/plain": [
       "array([ 2.53798706e-04, -9.99999968e-01, -0.00000000e+00])"
      ]
     },
     "execution_count": 82,
     "metadata": {},
     "output_type": "execute_result"
    }
   ],
   "source": [
    "c2"
   ]
  },
  {
   "cell_type": "markdown",
   "metadata": {},
   "source": [
    "> **WARNING**"
   ]
  },
  {
   "cell_type": "markdown",
   "metadata": {},
   "source": [
    "PCA assumes that **the dataset is centered around the origin.** As we will see, Scikit-Learn’s PCA classes take care of centering the data for you. However, if you implement PCA yourself (as in the preceding example), or if you use other libraries, don’t forget to center the data first."
   ]
  },
  {
   "cell_type": "markdown",
   "metadata": {},
   "source": [
    "<br>\n",
    "\n",
    "### Projecting Down to d Dimensions"
   ]
  },
  {
   "cell_type": "markdown",
   "metadata": {},
   "source": [
    "* Once you have identified all the principal components, you can <u>reduce the dimensionality of the dataset</u> down to ***d* dimensions by projecting it onto the hyperplane defined by the first *d* principal components.** \n",
    "* Selecting this hyperplane ensures that the projection will preserve as much variance as possible. \n",
    "    * For example, in Figure 8-2 the 3D dataset is projected down to the 2D plane defined by the first two principal components, preserving a large part of the dataset’s variance. \n",
    "    * As a result, the 2D projection looks very much like the original 3D dataset."
   ]
  },
  {
   "cell_type": "markdown",
   "metadata": {},
   "source": [
    "![Figure 6-2](./img/08_04.PNG)"
   ]
  },
  {
   "cell_type": "markdown",
   "metadata": {},
   "source": [
    "* To project the training set onto the hyperplane, you can simply compute the dot product of the training set matrix **X** by the matrix **W<sub>d</sub>**, defined as the matrix containing the first d principal components (i.e., the matrix composed of the first *d* columns of **V<sup>T</sup>**), as shown in Equation 8-2."
   ]
  },
  {
   "cell_type": "markdown",
   "metadata": {},
   "source": [
    "![Figure 6-2](./img/08_11.PNG)"
   ]
  },
  {
   "cell_type": "markdown",
   "metadata": {},
   "source": [
    "The following Python code projects the training set onto the plane defined by the first two principal\n",
    "components:"
   ]
  },
  {
   "cell_type": "code",
   "execution_count": 83,
   "metadata": {},
   "outputs": [],
   "source": [
    "W2 = V.T[:, :2]\n",
    "X2D = X_centered.dot(W2)"
   ]
  },
  {
   "cell_type": "code",
   "execution_count": 84,
   "metadata": {},
   "outputs": [
    {
     "data": {
      "text/plain": [
       "array([[-1.56666672e+05,  2.38201465e-01],\n",
       "       [-1.17966670e+05,  6.02117031e-02],\n",
       "       [-7.90666692e+04, -6.70183182e-02],\n",
       "       [-3.99666679e+04, -1.43488598e-01],\n",
       "       [-6.66666645e+02, -1.69199137e-01],\n",
       "       [ 3.88333346e+04, -1.44149935e-01],\n",
       "       [ 7.85333359e+04, -6.83409916e-02],\n",
       "       [ 1.18433337e+05,  5.82276930e-02],\n",
       "       [ 1.58533338e+05,  2.35556119e-01]])"
      ]
     },
     "execution_count": 84,
     "metadata": {},
     "output_type": "execute_result"
    }
   ],
   "source": [
    "X2D"
   ]
  },
  {
   "cell_type": "markdown",
   "metadata": {},
   "source": [
    "There you have it! You now know how to reduce the dimensionality of any dataset down to any number of dimensions, while preserving as much variance as possible."
   ]
  },
  {
   "cell_type": "markdown",
   "metadata": {},
   "source": [
    "<br>\n",
    "\n",
    "### Using Scikit-Learn"
   ]
  },
  {
   "cell_type": "markdown",
   "metadata": {},
   "source": [
    "* Scikit-Learn’s *PCA* class implements PCA using SVD decomposition just like we did before. \n",
    "* The following code applies PCA to reduce the dimensionality of the dataset down to two dimensions (note that it automatically takes care of centering the data):"
   ]
  },
  {
   "cell_type": "code",
   "execution_count": 14,
   "metadata": {},
   "outputs": [],
   "source": [
    "from sklearn.decomposition import PCA"
   ]
  },
  {
   "cell_type": "code",
   "execution_count": 85,
   "metadata": {},
   "outputs": [],
   "source": [
    "pca = PCA(n_components=2)\n",
    "X2D = pca.fit_transform(matA)"
   ]
  },
  {
   "cell_type": "code",
   "execution_count": 86,
   "metadata": {},
   "outputs": [
    {
     "data": {
      "text/plain": [
       "array([[3.7249e+06, 1.9300e+03, 1.0000e+00],\n",
       "       [3.7636e+06, 1.9400e+03, 1.0000e+00],\n",
       "       [3.8025e+06, 1.9500e+03, 1.0000e+00],\n",
       "       [3.8416e+06, 1.9600e+03, 1.0000e+00],\n",
       "       [3.8809e+06, 1.9700e+03, 1.0000e+00],\n",
       "       [3.9204e+06, 1.9800e+03, 1.0000e+00],\n",
       "       [3.9601e+06, 1.9900e+03, 1.0000e+00],\n",
       "       [4.0000e+06, 2.0000e+03, 1.0000e+00],\n",
       "       [4.0401e+06, 2.0100e+03, 1.0000e+00]])"
      ]
     },
     "execution_count": 86,
     "metadata": {},
     "output_type": "execute_result"
    }
   ],
   "source": [
    "matA"
   ]
  },
  {
   "cell_type": "code",
   "execution_count": 88,
   "metadata": {},
   "outputs": [
    {
     "data": {
      "text/plain": [
       "array([[-1.56666672e+05,  2.38201465e-01],\n",
       "       [-1.17966670e+05,  6.02117031e-02],\n",
       "       [-7.90666692e+04, -6.70183182e-02],\n",
       "       [-3.99666679e+04, -1.43488598e-01],\n",
       "       [-6.66666645e+02, -1.69199137e-01],\n",
       "       [ 3.88333346e+04, -1.44149935e-01],\n",
       "       [ 7.85333359e+04, -6.83409916e-02],\n",
       "       [ 1.18433337e+05,  5.82276930e-02],\n",
       "       [ 1.58533338e+05,  2.35556119e-01]])"
      ]
     },
     "execution_count": 88,
     "metadata": {},
     "output_type": "execute_result"
    }
   ],
   "source": [
    "X2D"
   ]
  },
  {
   "cell_type": "markdown",
   "metadata": {},
   "source": [
    "* After fitting the PCA transformer to the dataset, you can access the principal components using the *components_* variable (note that it contains the PCs as horizontal vectors, so, for example, the first principal component is equal to *pca.components_.T[:, 0]*)."
   ]
  },
  {
   "cell_type": "markdown",
   "metadata": {},
   "source": [
    "<br>\n",
    "\n",
    "### Explained Variance Ratio"
   ]
  },
  {
   "cell_type": "markdown",
   "metadata": {},
   "source": [
    "* Another very useful piece of information is the explained variance ratio of each principal component, available via the *explained_variance_ratio_ variable.* \n",
    "* It indicates the proportion of the dataset’s variance that lies along the axis of each principal component. \n",
    "* For example, let’s look at the explained variance ratios of the first two components of the 3D dataset represented in Figure 8-2:"
   ]
  },
  {
   "cell_type": "markdown",
   "metadata": {},
   "source": [
    "![Figure 6-2](./img/08_04.PNG)"
   ]
  },
  {
   "cell_type": "code",
   "execution_count": 91,
   "metadata": {},
   "outputs": [
    {
     "name": "stdout",
     "output_type": "stream",
     "text": [
      "2.1300303957016196e-12\n"
     ]
    }
   ],
   "source": [
    "print(pca.explained_variance_ratio_[1])"
   ]
  },
  {
   "cell_type": "markdown",
   "metadata": {},
   "source": [
    "* This tells you that 100% of the dataset’s variance lies along the first axis, and 0.000...2% lies along the second axis. \n",
    "* This leaves less than 1.2% for the third axis, so it is reasonable to assume that it probably carries little information."
   ]
  },
  {
   "cell_type": "markdown",
   "metadata": {},
   "source": [
    "<br>\n",
    "\n",
    "### Choosing the Right Number of Dimensions"
   ]
  },
  {
   "cell_type": "markdown",
   "metadata": {},
   "source": [
    "* Instead of arbitrarily choosing the number of dimensions to reduce down to, it is generally preferable to **choose the number of dimensions that add up to a sufficiently large portion of the variance** (e.g., 95%). \n",
    "* Unless, of course, you are reducing dimensionality for data visualization — in that case you will generally want to reduce the dimensionality down to **2 or 3.**\n",
    "* The following code <u>computes PCA without reducing dimensionality,</u> then **computes the minimum number of dimensions required to preserve 95% of the training set’s variance:**"
   ]
  },
  {
   "cell_type": "code",
   "execution_count": 26,
   "metadata": {},
   "outputs": [
    {
     "data": {
      "text/plain": [
       "PCA(copy=True, iterated_power='auto', n_components=None, random_state=None,\n",
       "    svd_solver='auto', tol=0.0, whiten=False)"
      ]
     },
     "execution_count": 26,
     "metadata": {},
     "output_type": "execute_result"
    }
   ],
   "source": [
    "pca= PCA()\n",
    "pca.fit(matA)"
   ]
  },
  {
   "cell_type": "markdown",
   "metadata": {},
   "source": [
    "**numpy.cumsum**  \n",
    "Return the cumulative sum of the elements along a given axis."
   ]
  },
  {
   "cell_type": "code",
   "execution_count": 27,
   "metadata": {},
   "outputs": [
    {
     "data": {
      "text/plain": [
       "array([1.0000000e+00, 2.1300304e-12, 0.0000000e+00])"
      ]
     },
     "execution_count": 27,
     "metadata": {},
     "output_type": "execute_result"
    }
   ],
   "source": [
    "pca.explained_variance_ratio_"
   ]
  },
  {
   "cell_type": "code",
   "execution_count": 29,
   "metadata": {},
   "outputs": [
    {
     "name": "stdout",
     "output_type": "stream",
     "text": [
      "0\n"
     ]
    }
   ],
   "source": [
    "cumsum = np.cumsum(pca.explained_variance_ratio_)\n",
    "print(np.argmax(cumsum >= 0.95))\n",
    "d = np.argmax(cumsum >= 0.95) +1"
   ]
  },
  {
   "cell_type": "code",
   "execution_count": 30,
   "metadata": {},
   "outputs": [
    {
     "data": {
      "text/plain": [
       "1"
      ]
     },
     "execution_count": 30,
     "metadata": {},
     "output_type": "execute_result"
    }
   ],
   "source": [
    "d"
   ]
  },
  {
   "cell_type": "markdown",
   "metadata": {},
   "source": [
    "* You could then set *n_components=d* and run PCA again. \n",
    "* However, there is a much better option:\n",
    "    * instead of specifying the number of principal components you want to preserve, you can set *n_components* to be a float between **0.0 and 1.0**, indicating the ratio of variance you wish to preserve:"
   ]
  },
  {
   "cell_type": "code",
   "execution_count": 31,
   "metadata": {},
   "outputs": [],
   "source": [
    "pca = PCA(n_components=d)\n",
    "X_reduced = pca.fit_transform(matA)"
   ]
  },
  {
   "cell_type": "code",
   "execution_count": 32,
   "metadata": {},
   "outputs": [
    {
     "data": {
      "text/plain": [
       "array([[-156666.67177287],\n",
       "       [-117966.67048129],\n",
       "       [ -79066.66919615],\n",
       "       [ -39966.66791745],\n",
       "       [   -666.6666452 ],\n",
       "       [  38833.33462062],\n",
       "       [  78533.33587999],\n",
       "       [ 118433.33713293],\n",
       "       [ 158533.33837942]])"
      ]
     },
     "execution_count": 32,
     "metadata": {},
     "output_type": "execute_result"
    }
   ],
   "source": [
    "X_reduced"
   ]
  },
  {
   "cell_type": "code",
   "execution_count": 33,
   "metadata": {},
   "outputs": [],
   "source": [
    "pca = PCA(n_components=0.95)\n",
    "X_reduced = pca.fit_transform(matA)"
   ]
  },
  {
   "cell_type": "code",
   "execution_count": 34,
   "metadata": {},
   "outputs": [
    {
     "data": {
      "text/plain": [
       "array([[-156666.67177287],\n",
       "       [-117966.67048129],\n",
       "       [ -79066.66919615],\n",
       "       [ -39966.66791745],\n",
       "       [   -666.6666452 ],\n",
       "       [  38833.33462062],\n",
       "       [  78533.33587999],\n",
       "       [ 118433.33713293],\n",
       "       [ 158533.33837942]])"
      ]
     },
     "execution_count": 34,
     "metadata": {},
     "output_type": "execute_result"
    }
   ],
   "source": [
    "X_reduced"
   ]
  },
  {
   "cell_type": "markdown",
   "metadata": {},
   "source": [
    "![Figure 6-2](./img/08_12.PNG)"
   ]
  },
  {
   "cell_type": "markdown",
   "metadata": {},
   "source": [
    "* Yet another option is to plot the explained variance as a function of the number of dimensions (simply plot cumsum; see Figure 8-8). \n",
    "* There will usually be an elbow in the curve, where the explained variance stops growing fast. \n",
    "* You can think of this as the intrinsic dimensionality of the dataset. In this case, you can see that reducing the dimensionality down to about 100 dimensions wouldn’t lose too much explained variance."
   ]
  },
  {
   "cell_type": "markdown",
   "metadata": {},
   "source": [
    "<br>\n",
    "\n",
    "### PCA for Compression"
   ]
  },
  {
   "cell_type": "markdown",
   "metadata": {},
   "source": [
    "* Obviously after dimensionality reduction, the training set takes up much less space. \n",
    "    * For example, try applying PCA to the MNIST dataset while preserving 95% of its variance. \n",
    "    * You should find that each instance will have just over 150 features, instead of the original 784 features. \n",
    "* So <u>while most of the variance is preserved, the dataset is now less than 20% of its original size!</u> \n",
    "* This is a reasonable compression ratio, and you can see how this can speed up a classification algorithm (such as an SVM classifier) tremendously.\n",
    "* It is also possible to decompress the reduced dataset **back to 784 dimensions by applying the inverse transformation of the PCA projection.** \n",
    "* Of course this won’t give you back the original data, since the projection lost a bit of information (within the 5% variance that was dropped), <u>but it will likely be quite close to the original data.</u> \n",
    "* The mean squared distance between the original data and the reconstructed data (compressed and then decompressed) is called **the reconstruction error.**\n",
    "    * For example, the following code compresses the MNIST dataset down to 154 dimensions, then uses the *inverse_transform()* method to decompress it back to 784 dimensions. \n",
    "    * Figure 8-9 shows a few digits from the original training set (on the left), and the corresponding digits after compression and decompression. \n",
    "    * You can see that there is a slight image quality loss, **but the digits are still mostly intact.**"
   ]
  },
  {
   "cell_type": "code",
   "execution_count": 35,
   "metadata": {},
   "outputs": [
    {
     "name": "stderr",
     "output_type": "stream",
     "text": [
      "Using TensorFlow backend.\n"
     ]
    }
   ],
   "source": [
    "from keras.datasets import mnist"
   ]
  },
  {
   "cell_type": "code",
   "execution_count": 36,
   "metadata": {},
   "outputs": [],
   "source": [
    "(X, y_mnist), (X_test, y_test) = mnist.load_data()"
   ]
  },
  {
   "cell_type": "code",
   "execution_count": 37,
   "metadata": {},
   "outputs": [
    {
     "data": {
      "text/plain": [
       "(60000, 784)"
      ]
     },
     "execution_count": 37,
     "metadata": {},
     "output_type": "execute_result"
    }
   ],
   "source": [
    "X_mnist = X.reshape(-1, 28*28)\n",
    "X_mnist.shape"
   ]
  },
  {
   "cell_type": "code",
   "execution_count": 38,
   "metadata": {},
   "outputs": [],
   "source": [
    "pca = PCA(n_components=154)"
   ]
  },
  {
   "cell_type": "code",
   "execution_count": 39,
   "metadata": {},
   "outputs": [],
   "source": [
    "X_mnist_reduces = pca.fit_transform(X_mnist)"
   ]
  },
  {
   "cell_type": "code",
   "execution_count": 40,
   "metadata": {},
   "outputs": [
    {
     "data": {
      "text/plain": [
       "array([[ 1.23932589e+02, -3.12674262e+02, -2.45140519e+01, ...,\n",
       "        -2.90325797e+01,  1.48880978e+01,  2.78623778e+01],\n",
       "       [ 1.01171838e+03, -2.94857038e+02,  5.96339561e+02, ...,\n",
       "        -2.94593548e+01,  1.16299590e+01,  2.96166390e+01],\n",
       "       [-5.18496081e+01,  3.92173153e+02, -1.88509749e+02, ...,\n",
       "         3.85633109e+01, -7.45990727e+01, -1.03204927e+02],\n",
       "       ...,\n",
       "       [-1.78053450e+02,  1.60078211e+02, -2.57613082e+02, ...,\n",
       "        -1.10195242e-01, -2.43054643e+01, -1.16322675e+01],\n",
       "       [ 1.30606072e+02, -5.59193641e+00,  5.13858674e+02, ...,\n",
       "         3.61727474e+01, -5.32494857e+01,  5.26154293e+01],\n",
       "       [-1.73435952e+02, -2.47188023e+01,  5.56018894e+02, ...,\n",
       "        -1.71339258e+01, -2.26387708e+01, -6.75121186e+00]])"
      ]
     },
     "execution_count": 40,
     "metadata": {},
     "output_type": "execute_result"
    }
   ],
   "source": [
    "X_mnist_reduces"
   ]
  },
  {
   "cell_type": "code",
   "execution_count": 41,
   "metadata": {},
   "outputs": [
    {
     "data": {
      "text/plain": [
       "(60000, 154)"
      ]
     },
     "execution_count": 41,
     "metadata": {},
     "output_type": "execute_result"
    }
   ],
   "source": [
    "X_mnist_reduces.shape"
   ]
  },
  {
   "cell_type": "code",
   "execution_count": 43,
   "metadata": {},
   "outputs": [],
   "source": [
    "X_mnist_recovered = pca.inverse_transform(X_mnist_reduces)"
   ]
  },
  {
   "cell_type": "code",
   "execution_count": 44,
   "metadata": {},
   "outputs": [
    {
     "data": {
      "text/plain": [
       "(60000, 784)"
      ]
     },
     "execution_count": 44,
     "metadata": {},
     "output_type": "execute_result"
    }
   ],
   "source": [
    "X_mnist_recovered.shape"
   ]
  },
  {
   "cell_type": "code",
   "execution_count": 45,
   "metadata": {},
   "outputs": [],
   "source": [
    "test = X_mnist_recovered[0].reshape(1,28,28)"
   ]
  },
  {
   "cell_type": "code",
   "execution_count": 47,
   "metadata": {},
   "outputs": [
    {
     "data": {
      "text/plain": [
       "<matplotlib.image.AxesImage at 0x23004abd828>"
      ]
     },
     "execution_count": 47,
     "metadata": {},
     "output_type": "execute_result"
    },
    {
     "data": {
      "image/png": "[encoded data removed]",
      "text/plain": [
       "<Figure size 1152x648 with 2 Axes>"
      ]
     },
     "metadata": {
      "needs_background": "light"
     },
     "output_type": "display_data"
    }
   ],
   "source": [
    "import matplotlib.pyplot as plt\n",
    "fig, (ax1, ax2) = plt.subplots(1, 2, figsize=(16, 9))\n",
    "ax1.imshow(X[0],cmap='Greys_r') \n",
    "ax2.imshow(test[0],cmap='Greys_r')"
   ]
  },
  {
   "cell_type": "markdown",
   "metadata": {},
   "source": [
    "![Figure 6-2](./img/08_13.PNG)"
   ]
  },
  {
   "cell_type": "markdown",
   "metadata": {},
   "source": [
    "The equation of the inverse transformation is shown in Equation 8-3."
   ]
  },
  {
   "cell_type": "markdown",
   "metadata": {},
   "source": [
    "![Figure 6-2](./img/08_14.PNG)"
   ]
  },
  {
   "cell_type": "markdown",
   "metadata": {},
   "source": [
    "<br>\n",
    "\n",
    "### Incremental PCA"
   ]
  },
  {
   "cell_type": "markdown",
   "metadata": {},
   "source": [
    "* One problem with the preceding implementation of PCA is that it requires the whole training set to fit in memory in order for the SVD algorithm to run. \n",
    "* Fortunately, **Incremental PCA (IPCA)** algorithms have been developed: you can split the training set into mini-batches and feed an IPCA algorithm one mini-batch at a time. \n",
    "* This is useful for large training sets, and also to apply PCA online (i.e., on the fly, as new instances arrive).\n",
    "* The following code splits the MNIST dataset into 100 mini-batches (using NumPy’s *array_split()* function) and feeds them to Scikit-Learn’s *IncrementalPCA* class to reduce the dimensionality of the MNIST dataset down to 154 dimensions (just like before). \n",
    "* Note that you must call the *partial_fit()* method with each mini-batch rather than the *fit()* method with the whole training set:"
   ]
  },
  {
   "cell_type": "code",
   "execution_count": 48,
   "metadata": {},
   "outputs": [],
   "source": [
    "from sklearn.decomposition import IncrementalPCA"
   ]
  },
  {
   "cell_type": "code",
   "execution_count": 49,
   "metadata": {},
   "outputs": [],
   "source": [
    "n_batches=100\n",
    "inc_pca = IncrementalPCA(n_components=154)"
   ]
  },
  {
   "cell_type": "code",
   "execution_count": 50,
   "metadata": {},
   "outputs": [],
   "source": [
    "for X_batch in np.array_split(X_mnist, n_batches):\n",
    "    inc_pca.partial_fit(X_batch)"
   ]
  },
  {
   "cell_type": "code",
   "execution_count": 51,
   "metadata": {},
   "outputs": [],
   "source": [
    "X_mnist_reduced = inc_pca.transform(X_mnist)"
   ]
  },
  {
   "cell_type": "code",
   "execution_count": 52,
   "metadata": {},
   "outputs": [
    {
     "data": {
      "text/plain": [
       "(60000, 154)"
      ]
     },
     "execution_count": 52,
     "metadata": {},
     "output_type": "execute_result"
    }
   ],
   "source": [
    "X_mnist_reduced.shape"
   ]
  },
  {
   "cell_type": "markdown",
   "metadata": {},
   "source": [
    "* Alternatively, you can use NumPy’s *memmap* class, which allows you to manipulate a large array stored in a binary file on disk as if it were entirely in memory; the class loads only the data it needs in memory, when it needs it. \n",
    "* Since the *IncrementalPCA* class uses only a small part of the array at any given time, the memory usage remains under control. \n",
    "* This makes it possible to call the usual *fit()* method, as you can see in the following code:"
   ]
  },
  {
   "cell_type": "markdown",
   "metadata": {},
   "source": [
    "**np.memmap**  \n",
    "Create a memory-map to an array stored in a binary file on disk."
   ]
  },
  {
   "cell_type": "code",
   "execution_count": 55,
   "metadata": {},
   "outputs": [],
   "source": [
    "X_bin = X_mnist.tobytes()"
   ]
  },
  {
   "cell_type": "code",
   "execution_count": 56,
   "metadata": {},
   "outputs": [
    {
     "data": {
      "text/plain": [
       "47040000"
      ]
     },
     "execution_count": 56,
     "metadata": {},
     "output_type": "execute_result"
    }
   ],
   "source": [
    "len(X_bin)"
   ]
  },
  {
   "cell_type": "code",
   "execution_count": 61,
   "metadata": {},
   "outputs": [],
   "source": [
    "m = 60000\n",
    "n = 786"
   ]
  },
  {
   "cell_type": "code",
   "execution_count": 62,
   "metadata": {},
   "outputs": [
    {
     "ename": "UnicodeDecodeError",
     "evalue": "'utf-8' codec can't decode byte 0x88 in position 157: invalid start byte",
     "output_type": "error",
     "traceback": [
      "\u001b[1;31m---------------------------------------------------------------------------\u001b[0m",
      "\u001b[1;31mUnicodeDecodeError\u001b[0m                        Traceback (most recent call last)",
      "\u001b[1;32m<ipython-input-62-ce4094e43f6f>\u001b[0m in \u001b[0;36m<module>\u001b[1;34m\u001b[0m\n\u001b[1;32m----> 1\u001b[1;33m \u001b[0mX_mm\u001b[0m \u001b[1;33m=\u001b[0m \u001b[0mnp\u001b[0m\u001b[1;33m.\u001b[0m\u001b[0mmemmap\u001b[0m\u001b[1;33m(\u001b[0m\u001b[0mX_bin\u001b[0m\u001b[1;33m,\u001b[0m \u001b[0mdtype\u001b[0m\u001b[1;33m=\u001b[0m\u001b[1;34m\"float32\"\u001b[0m\u001b[1;33m,\u001b[0m \u001b[0mmode\u001b[0m\u001b[1;33m=\u001b[0m\u001b[1;34m\"readonly\"\u001b[0m\u001b[1;33m,\u001b[0m\u001b[0mshape\u001b[0m\u001b[1;33m=\u001b[0m\u001b[1;33m(\u001b[0m\u001b[0mm\u001b[0m\u001b[1;33m,\u001b[0m\u001b[0mn\u001b[0m\u001b[1;33m)\u001b[0m\u001b[1;33m)\u001b[0m\u001b[1;33m\u001b[0m\u001b[1;33m\u001b[0m\u001b[0m\n\u001b[0m",
      "\u001b[1;32m~\\Anaconda3\\lib\\site-packages\\numpy\\core\\memmap.py\u001b[0m in \u001b[0;36m__new__\u001b[1;34m(subtype, filename, dtype, mode, offset, shape, order)\u001b[0m\n\u001b[0;32m    223\u001b[0m             \u001b[0mf_ctx\u001b[0m \u001b[1;33m=\u001b[0m \u001b[0mcontextlib_nullcontext\u001b[0m\u001b[1;33m(\u001b[0m\u001b[0mfilename\u001b[0m\u001b[1;33m)\u001b[0m\u001b[1;33m\u001b[0m\u001b[1;33m\u001b[0m\u001b[0m\n\u001b[0;32m    224\u001b[0m         \u001b[1;32melse\u001b[0m\u001b[1;33m:\u001b[0m\u001b[1;33m\u001b[0m\u001b[1;33m\u001b[0m\u001b[0m\n\u001b[1;32m--> 225\u001b[1;33m             \u001b[0mf_ctx\u001b[0m \u001b[1;33m=\u001b[0m \u001b[0mopen\u001b[0m\u001b[1;33m(\u001b[0m\u001b[0mos_fspath\u001b[0m\u001b[1;33m(\u001b[0m\u001b[0mfilename\u001b[0m\u001b[1;33m)\u001b[0m\u001b[1;33m,\u001b[0m \u001b[1;33m(\u001b[0m\u001b[1;34m'r'\u001b[0m \u001b[1;32mif\u001b[0m \u001b[0mmode\u001b[0m \u001b[1;33m==\u001b[0m \u001b[1;34m'c'\u001b[0m \u001b[1;32melse\u001b[0m \u001b[0mmode\u001b[0m\u001b[1;33m)\u001b[0m\u001b[1;33m+\u001b[0m\u001b[1;34m'b'\u001b[0m\u001b[1;33m)\u001b[0m\u001b[1;33m\u001b[0m\u001b[1;33m\u001b[0m\u001b[0m\n\u001b[0m\u001b[0;32m    226\u001b[0m \u001b[1;33m\u001b[0m\u001b[0m\n\u001b[0;32m    227\u001b[0m         \u001b[1;32mwith\u001b[0m \u001b[0mf_ctx\u001b[0m \u001b[1;32mas\u001b[0m \u001b[0mfid\u001b[0m\u001b[1;33m:\u001b[0m\u001b[1;33m\u001b[0m\u001b[1;33m\u001b[0m\u001b[0m\n",
      "\u001b[1;31mUnicodeDecodeError\u001b[0m: 'utf-8' codec can't decode byte 0x88 in position 157: invalid start byte"
     ]
    }
   ],
   "source": [
    "X_mm = np.memmap(X_bin, dtype=\"float32\", mode=\"readonly\",shape=(m,n))"
   ]
  },
  {
   "cell_type": "code",
   "execution_count": null,
   "metadata": {},
   "outputs": [],
   "source": [
    "batch_size = m//n_batches\n",
    "inc_pca = IncrementalPCA(n_components=154, batch_size=batch_size)\n",
    "inc_pca.fit(X_mm)"
   ]
  },
  {
   "cell_type": "markdown",
   "metadata": {},
   "source": [
    "<br>\n",
    "\n",
    "### Randomized PCA"
   ]
  },
  {
   "cell_type": "markdown",
   "metadata": {},
   "source": [
    "* Scikit-Learn offers yet another option to perform PCA, called *Randomized PCA*. \n",
    "* This is a stochastic algorithm that quickly finds an approximation of the first *d* principal components. \n",
    "* Its computational complexity is *O(m × d<sup>2</sup>) + O(d<sup>3</sup>)*, instead of *O(m × n<sup>2</sup>) + O(n<sup>3</sup>)*, so it is dramatically faster than the previous algorithms when *d* is much smaller than *n*."
   ]
  },
  {
   "cell_type": "code",
   "execution_count": 67,
   "metadata": {},
   "outputs": [],
   "source": [
    "pca = PCA(n_components=154)\n",
    "X_mnist_reduces = pca.fit_transform(X_mnist)"
   ]
  },
  {
   "cell_type": "code",
   "execution_count": 68,
   "metadata": {},
   "outputs": [
    {
     "data": {
      "text/plain": [
       "(60000, 154)"
      ]
     },
     "execution_count": 68,
     "metadata": {},
     "output_type": "execute_result"
    }
   ],
   "source": [
    "X_mnist_reduced.shape"
   ]
  },
  {
   "cell_type": "code",
   "execution_count": 69,
   "metadata": {},
   "outputs": [],
   "source": [
    "rnd_pca = PCA(n_components=154, svd_solver=\"randomized\")\n",
    "X_reduced = rnd_pca.fit_transform(X_mnist)"
   ]
  },
  {
   "cell_type": "code",
   "execution_count": 70,
   "metadata": {},
   "outputs": [
    {
     "data": {
      "text/plain": [
       "(60000, 154)"
      ]
     },
     "execution_count": 70,
     "metadata": {},
     "output_type": "execute_result"
    }
   ],
   "source": [
    "X_reduced.shape"
   ]
  },
  {
   "cell_type": "code",
   "execution_count": null,
   "metadata": {},
   "outputs": [],
   "source": []
  }
 ],
 "metadata": {
  "kernelspec": {
   "display_name": "Python 3",
   "language": "python",
   "name": "python3"
  },
  "language_info": {
   "codemirror_mode": {
    "name": "ipython",
    "version": 3
   },
   "file_extension": ".py",
   "mimetype": "text/x-python",
   "name": "python",
   "nbconvert_exporter": "python",
   "pygments_lexer": "ipython3",
   "version": "3.7.3"
  }
 },
 "nbformat": 4,
 "nbformat_minor": 4
}
